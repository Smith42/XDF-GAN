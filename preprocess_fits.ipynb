{
 "cells": [
  {
   "cell_type": "code",
   "execution_count": null,
   "metadata": {},
   "outputs": [],
   "source": [
    "from astropy.io import fits\n",
    "import numpy as np\n",
    "from scipy.ndimage import interpolation as interp\n",
    "import glob"
   ]
  },
  {
   "cell_type": "markdown",
   "metadata": {},
   "source": [
    "# Download FITS data"
   ]
  },
  {
   "cell_type": "code",
   "execution_count": null,
   "metadata": {},
   "outputs": [],
   "source": [
    "%%bash\n",
    "mkdir fits_data\n",
    "\n",
    "for FITSSITE in https://archive.stsci.edu/pub/hlsp/xdf/hlsp_xdf_hst_acswfc-60mas_hudf_f435w_v1_sci.fits https://archive.stsci.edu/pub/hlsp/xdf/hlsp_xdf_hst_acswfc-60mas_hudf_f606w_v1_sci.fits https://archive.stsci.edu/pub/hlsp/xdf/hlsp_xdf_hst_acswfc-60mas_hudf_f775w_v1_sci.fits https://archive.stsci.edu/pub/hlsp/xdf/hlsp_xdf_hst_acswfc-60mas_hudf_f814w_v1_sci.fits https://archive.stsci.edu/pub/hlsp/xdf/hlsp_xdf_hst_acswfc-60mas_hudf_f850lp_v1_sci.fits\n",
    "do\n",
    "    echo $FITSSITE\n",
    "    wget -P fits_data $FITSSITE\n",
    "done"
   ]
  },
  {
   "cell_type": "markdown",
   "metadata": {},
   "source": [
    "# Preprocess FITS file"
   ]
  },
  {
   "cell_type": "code",
   "execution_count": null,
   "metadata": {},
   "outputs": [],
   "source": [
    "def rotn(xdf):\n",
    "    \"\"\"\n",
    "    Rotate and crop FITS files.\n",
    "    \"\"\"\n",
    "    xdf = interp.rotate(xdf, 43.25)\n",
    "    xdf = xdf[2080:5320,2080:5320]\n",
    "    return xdf\n",
    "\n",
    "def min_max_norm(ar):\n",
    "    return (ar - ar.min())/(ar.max() - ar.min())\n",
    "\n",
    "xdfs = [fits.open(ffile)[0].data for ffile in np.sort(glob.glob(\"./fits_data/*.fits\"))]\n",
    "rot_xdf = [rotn(xdf) for xdf in xdfs]\n",
    "\n",
    "clipped_xdf = []\n",
    "for channel in rot_xdf:\n",
    "    print(\"Clipping...\")\n",
    "    print(\"Shape:\", channel.shape)\n",
    "    print(\"Max:\", np.abs(channel.max()))\n",
    "    cp = np.percentile(channel, [99.99])\n",
    "    channel[channel > cp[0]] = cp[0]\n",
    "    print(\"Clipped max:\", np.abs(channel.max()))\n",
    "    \n",
    "    print(\"Total before:\", channel.max(), channel.min())\n",
    "    channel = min_max_norm(channel)\n",
    "    print(\"Total after:\", channel.max(), channel.min())\n",
    "    \n",
    "    clipped_xdf.append(channel)\n",
    "    \n",
    "clipped_xdf = np.swapaxes(clipped_xdf, 0, -1)\n",
    "np.save(\"./fits_data/mc_channelwise_clipping.npy\", clipped_xdf)"
   ]
  },
  {
   "cell_type": "code",
   "execution_count": null,
   "metadata": {},
   "outputs": [],
   "source": []
  }
 ],
 "metadata": {
  "kernelspec": {
   "display_name": "Python 3",
   "language": "python",
   "name": "python3"
  },
  "language_info": {
   "codemirror_mode": {
    "name": "ipython",
    "version": 3
   },
   "file_extension": ".py",
   "mimetype": "text/x-python",
   "name": "python",
   "nbconvert_exporter": "python",
   "pygments_lexer": "ipython3",
   "version": "3.5.3"
  }
 },
 "nbformat": 4,
 "nbformat_minor": 2
}
